{
  "nbformat": 4,
  "nbformat_minor": 0,
  "metadata": {
    "colab": {
      "provenance": []
    },
    "kernelspec": {
      "name": "python3",
      "display_name": "Python 3"
    },
    "language_info": {
      "name": "python"
    }
  },
  "cells": [
    {
      "cell_type": "markdown",
      "source": [
        "Write a program to implement multilayer perceptron\n"
      ],
      "metadata": {
        "id": "rJU6O3QbkFBL"
      }
    },
    {
      "cell_type": "code",
      "execution_count": 1,
      "metadata": {
        "id": "UPuSGnybj0Jh"
      },
      "outputs": [],
      "source": [
        "import tensorflow as tf\n",
        "from tensorflow import keras\n",
        "from tensorflow.keras import layers"
      ]
    },
    {
      "cell_type": "code",
      "source": [
        "# Generate some example data\n",
        "(x_train, y_train), (x_test, y_test) = keras.datasets.mnist.load_data()\n",
        "x_train = x_train.reshape(-1, 784).astype(\"float32\") / 255.0\n",
        "x_test = x_test.reshape(-1, 784).astype(\"float32\") / 255.0"
      ],
      "metadata": {
        "colab": {
          "base_uri": "https://localhost:8080/"
        },
        "id": "W8MX3pdAma7M",
        "outputId": "cf6e63f7-5f05-4e75-f945-67345142d504"
      },
      "execution_count": 2,
      "outputs": [
        {
          "output_type": "stream",
          "name": "stdout",
          "text": [
            "Downloading data from https://storage.googleapis.com/tensorflow/tf-keras-datasets/mnist.npz\n",
            "11490434/11490434 [==============================] - 1s 0us/step\n"
          ]
        }
      ]
    },
    {
      "cell_type": "code",
      "source": [
        "# Define the MLP model\n",
        "model = keras.Sequential([\n",
        "    layers.Input(shape=(784,)),     # Input layer with 784 neurons\n",
        "    layers.Dense(128, activation='relu'),  # Hidden layer with 128 neurons and ReLU activation\n",
        "    layers.Dense(64, activation='relu'),   # Hidden layer with 64 neurons and ReLU activation\n",
        "    layers.Dense(10, activation='softmax') # Output layer with 10 neurons (for MNIST's 10 classes) and softmax activation\n",
        "])"
      ],
      "metadata": {
        "id": "akC2FA54mc9f"
      },
      "execution_count": 3,
      "outputs": []
    },
    {
      "cell_type": "code",
      "source": [
        "# Compile the model\n",
        "model.compile(optimizer='adam', loss='sparse_categorical_crossentropy', metrics=['accuracy'])"
      ],
      "metadata": {
        "id": "_kPBdqvzme5t"
      },
      "execution_count": 4,
      "outputs": []
    },
    {
      "cell_type": "code",
      "source": [
        "# Train the model\n",
        "model.fit(x_train, y_train, epochs=5, batch_size=64, validation_split=0.2)"
      ],
      "metadata": {
        "colab": {
          "base_uri": "https://localhost:8080/"
        },
        "id": "FqK-kJYWmgyv",
        "outputId": "d5441b42-b993-4f07-cff5-53f67dbf008c"
      },
      "execution_count": 5,
      "outputs": [
        {
          "output_type": "stream",
          "name": "stdout",
          "text": [
            "Epoch 1/5\n",
            "750/750 [==============================] - 10s 12ms/step - loss: 0.3033 - accuracy: 0.9144 - val_loss: 0.1501 - val_accuracy: 0.9562\n",
            "Epoch 2/5\n",
            "750/750 [==============================] - 6s 8ms/step - loss: 0.1271 - accuracy: 0.9621 - val_loss: 0.1136 - val_accuracy: 0.9663\n",
            "Epoch 3/5\n",
            "750/750 [==============================] - 4s 5ms/step - loss: 0.0870 - accuracy: 0.9741 - val_loss: 0.0965 - val_accuracy: 0.9718\n",
            "Epoch 4/5\n",
            "750/750 [==============================] - 5s 6ms/step - loss: 0.0653 - accuracy: 0.9791 - val_loss: 0.0938 - val_accuracy: 0.9713\n",
            "Epoch 5/5\n",
            "750/750 [==============================] - 3s 5ms/step - loss: 0.0519 - accuracy: 0.9844 - val_loss: 0.0865 - val_accuracy: 0.9737\n"
          ]
        },
        {
          "output_type": "execute_result",
          "data": {
            "text/plain": [
              "<keras.src.callbacks.History at 0x7d9ef18e15a0>"
            ]
          },
          "metadata": {},
          "execution_count": 5
        }
      ]
    },
    {
      "cell_type": "code",
      "source": [
        "# Evaluate the model on the test data\n",
        "test_loss, test_accuracy = model.evaluate(x_test, y_test)\n",
        "print(f\"Test Accuracy: {test_accuracy * 100:.2f}%\")"
      ],
      "metadata": {
        "colab": {
          "base_uri": "https://localhost:8080/"
        },
        "id": "YZ0C3ml6mjLl",
        "outputId": "3069e98c-10bb-4adc-c758-7fbc611ad560"
      },
      "execution_count": 6,
      "outputs": [
        {
          "output_type": "stream",
          "name": "stdout",
          "text": [
            "313/313 [==============================] - 1s 2ms/step - loss: 0.0790 - accuracy: 0.9759\n",
            "Test Accuracy: 97.59%\n"
          ]
        }
      ]
    }
  ]
}